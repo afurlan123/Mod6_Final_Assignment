{
 "cells": [
  {
   "cell_type": "markdown",
   "id": "26922faf",
   "metadata": {},
   "source": [
    "# Data Science Tools and Ecosystem"
   ]
  },
  {
   "cell_type": "markdown",
   "id": "892f0643",
   "metadata": {},
   "source": [
    "In this notebook, Data Science Tools and Ecosystem are summarized."
   ]
  },
  {
   "cell_type": "markdown",
   "id": "79b30d79",
   "metadata": {},
   "source": [
    "**Objectives:**\n",
    "* List popular libraries used by Data scientists\n",
    "* List popular development environment open source tools used in data science\n",
    "* Create code cells with arithmetic expression examples"
   ]
  },
  {
   "cell_type": "markdown",
   "id": "90275508",
   "metadata": {},
   "source": [
    "Some of the popular languages that Data Scientists use are:\n",
    "1. Python\n",
    "2. R\n",
    "3. Julia"
   ]
  },
  {
   "cell_type": "markdown",
   "id": "a8c1cf45",
   "metadata": {},
   "source": [
    "Some of the commonly used libraries used by Data Scientists include:\n",
    "1. Numpy\n",
    "2. Pandas\n",
    "3. Tensorflow"
   ]
  },
  {
   "cell_type": "markdown",
   "id": "cffcc060",
   "metadata": {},
   "source": [
    "| Data Science Tools|\n",
    "------------------------------\n",
    "| JupyterLab | \n",
    "| VisualStudio Code |\n",
    "| RStudio |"
   ]
  },
  {
   "cell_type": "markdown",
   "id": "198860a9",
   "metadata": {},
   "source": [
    "### Below are a few examples of evaluating arithmetic expressions in Python"
   ]
  },
  {
   "cell_type": "code",
   "execution_count": 3,
   "id": "f361d548",
   "metadata": {},
   "outputs": [
    {
     "data": {
      "text/plain": [
       "17"
      ]
     },
     "execution_count": 3,
     "metadata": {},
     "output_type": "execute_result"
    }
   ],
   "source": [
    "# This a simple arithmetic expression to mutiply then add integers\n",
    "(3*4)+5"
   ]
  },
  {
   "cell_type": "code",
   "execution_count": 8,
   "id": "1a590dda",
   "metadata": {},
   "outputs": [
    {
     "data": {
      "text/plain": [
       "3.3333333333333335"
      ]
     },
     "execution_count": 8,
     "metadata": {},
     "output_type": "execute_result"
    }
   ],
   "source": [
    "# This will convert 200 minutes to hours by diving by 60\n",
    "minutes= 200\n",
    "minutes_in_one_hour= 60\n",
    "minutes/minutes_in_one_hour"
   ]
  },
  {
   "cell_type": "markdown",
   "id": "4ab472a3",
   "metadata": {},
   "source": [
    "## Author\n",
    "Alicia Furlan"
   ]
  },
  {
   "cell_type": "code",
   "execution_count": null,
   "id": "bb56aba7",
   "metadata": {},
   "outputs": [],
   "source": []
  }
 ],
 "metadata": {
  "kernelspec": {
   "display_name": "Python 3 (ipykernel)",
   "language": "python",
   "name": "python3"
  },
  "language_info": {
   "codemirror_mode": {
    "name": "ipython",
    "version": 3
   },
   "file_extension": ".py",
   "mimetype": "text/x-python",
   "name": "python",
   "nbconvert_exporter": "python",
   "pygments_lexer": "ipython3",
   "version": "3.10.9"
  }
 },
 "nbformat": 4,
 "nbformat_minor": 5
}
